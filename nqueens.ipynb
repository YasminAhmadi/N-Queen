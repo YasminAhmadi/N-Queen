{
  "nbformat": 4,
  "nbformat_minor": 0,
  "metadata": {
    "colab": {
      "provenance": []
    },
    "kernelspec": {
      "name": "python3",
      "display_name": "Python 3"
    },
    "language_info": {
      "name": "python"
    }
  },
  "cells": [
    {
      "cell_type": "code",
      "execution_count": 1,
      "metadata": {
        "id": "AxA7RB3o07UF"
      },
      "outputs": [],
      "source": [
        "import random\n",
        "\n",
        "class Board:\n",
        "    def __init__(self, size):\n",
        "        self.size = size\n",
        "        self.positions = [random.randint(0, size-1) for i in range(size)]\n",
        "\n",
        "    def fitness(self):\n",
        "        conflicts = 0\n",
        "        for i in range(self.size):\n",
        "            for j in range(i+1, self.size):\n",
        "                if (self.positions[i] == self.positions[j]) or (abs(self.positions[i] - self.positions[j]) == abs(i - j)):\n",
        "                    conflicts += 1\n",
        "        return conflicts\n",
        "\n",
        "    # Creates a new board by crossing over with another board\n",
        "    def crossover(self, other):\n",
        "        child_positions = []\n",
        "        midpoint = random.randint(0, self.size-1)\n",
        "        child_positions.extend(self.positions[:midpoint])\n",
        "        child_positions.extend(other.positions[midpoint:])\n",
        "        child = Board(self.size)\n",
        "        child.positions = child_positions\n",
        "        return child\n",
        "        \n",
        "    # Mutates the board by randomly changing one of its positions\n",
        "    def mutate(self, probability):\n",
        "        if random.random() < probability:\n",
        "            position_to_change = random.randint(0, self.size-1)\n",
        "            new_position = random.randint(0, self.size-1)\n",
        "            self.positions[position_to_change] = new_position"
      ]
    },
    {
      "cell_type": "code",
      "source": [
        "def genetic_algorithm(size, population_size, crossover_probability, \n",
        "                      mutation_probability, max_generations):\n",
        "    # Initializes the population with random boards\n",
        "    population = [Board(size) for i in range(population_size)]\n",
        "    for generation in range(max_generations):\n",
        "        # Sorts the population by fitness\n",
        "        population.sort(key=lambda b: b.fitness())\n",
        "        # Checking to see if we've found a solution\n",
        "        if population[0].fitness() == 0:\n",
        "            return population[0]\n",
        "        # Selects the parents for the next generation\n",
        "        parents = population[:population_size//2]\n",
        "        # Creates the next generation using crossover and mutation\n",
        "        next_generation = []\n",
        "        for i in range(population_size - len(parents)):\n",
        "            parent1 = random.choice(parents)\n",
        "            parent2 = random.choice(parents)\n",
        "            child = parent1.crossover(parent2)\n",
        "            child.mutate(mutation_probability)\n",
        "            next_generation.append(child)\n",
        "        # Adds the parents to the next generation\n",
        "        next_generation.extend(parents)\n",
        "        population = next_generation\n",
        "    # The best board we found\n",
        "    population.sort(key=lambda b: b.fitness())\n",
        "    return population[0]"
      ],
      "metadata": {
        "id": "3Aj3H8Y41MyH"
      },
      "execution_count": 2,
      "outputs": []
    },
    {
      "cell_type": "code",
      "source": [
        "solution = genetic_algorithm(size=100, population_size=70, crossover_probability=0.9, mutation_probability=0.8, max_generations=2000)\n",
        "print(solution.positions)"
      ],
      "metadata": {
        "colab": {
          "base_uri": "https://localhost:8080/"
        },
        "id": "OxK1XdMdp88S",
        "outputId": "c5697b39-471f-45a9-af43-10e58a4bf132"
      },
      "execution_count": 3,
      "outputs": [
        {
          "output_type": "stream",
          "name": "stdout",
          "text": [
            "[58, 80, 57, 42, 29, 46, 79, 25, 41, 65, 50, 35, 12, 14, 62, 87, 75, 38, 69, 3, 37, 52, 98, 49, 77, 71, 95, 81, 20, 59, 39, 92, 61, 19, 97, 31, 43, 53, 73, 67, 84, 86, 40, 10, 56, 44, 24, 89, 23, 26, 6, 16, 90, 64, 91, 8, 22, 27, 94, 9, 2, 4, 66, 17, 54, 70, 47, 99, 83, 88, 28, 93, 74, 21, 33, 78, 63, 0, 5, 51, 60, 11, 55, 72, 15, 1, 68, 82, 45, 30, 7, 76, 18, 48, 85, 27, 42, 32, 34, 13]\n"
          ]
        }
      ]
    },
    {
      "cell_type": "code",
      "source": [
        "def threat_calculate(n):\n",
        "    # n <-- number of queens \n",
        "    # if there are < 2 queens\n",
        "    if(n < 2):\n",
        "        return 0\n",
        "    # if there are 2 queens\n",
        "    if(n == 2):\n",
        "        return 1\n",
        "    # if #queens > 2\n",
        "    return (n - 1) * n / 2\n",
        "def cost(chess_board):\n",
        "    dic = {}\n",
        "    for i in range(len(chess_board)):\n",
        "      dic[i] = chess_board[i]\n",
        "    chess_board = dic\n",
        "    # chess_board <-- a single board of chess \n",
        "\n",
        "    threat = 0\n",
        "    m_chessboard = {}\n",
        "    a_chessboard = {}\n",
        "    # #queens that are threatening each other diagnolly\n",
        "    for column in chess_board:\n",
        "        temp_m = column - chess_board[column]\n",
        "        temp_a = column + chess_board[column]\n",
        "        if temp_m not in m_chessboard:\n",
        "            m_chessboard[temp_m] = 1\n",
        "        else:\n",
        "            m_chessboard[temp_m] += 1\n",
        "        if(temp_a not in a_chessboard):\n",
        "            a_chessboard[temp_a] = 1\n",
        "        else:\n",
        "            a_chessboard[temp_a] += 1\n",
        "    # Adding the threat cost to threat\n",
        "    for i in m_chessboard:\n",
        "        threat += threat_calculate(m_chessboard[i])\n",
        "    del m_chessboard\n",
        "    for i in a_chessboard:\n",
        "        threat += threat_calculate(a_chessboard[i])\n",
        "    del a_chessboard\n",
        "    return threat\n"
      ],
      "metadata": {
        "id": "Ie-DcGNYsN1A"
      },
      "execution_count": 7,
      "outputs": []
    },
    {
      "cell_type": "code",
      "source": [
        "# if the cost is 0 a solution is found\n",
        "cost(solution.positions)"
      ],
      "metadata": {
        "colab": {
          "base_uri": "https://localhost:8080/"
        },
        "id": "cB3-qnzkscJd",
        "outputId": "28d16041-4656-4699-ee45-43263d14f8c8"
      },
      "execution_count": 8,
      "outputs": [
        {
          "output_type": "execute_result",
          "data": {
            "text/plain": [
              "0"
            ]
          },
          "metadata": {},
          "execution_count": 8
        }
      ]
    }
  ]
}